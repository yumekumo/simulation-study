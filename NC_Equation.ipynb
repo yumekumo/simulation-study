{
 "cells": [
  {
   "cell_type": "code",
   "execution_count": 1,
   "metadata": {},
   "outputs": [
    {
     "name": "stdout",
     "output_type": "stream",
     "text": [
      "1000.0001000585712 1000.0000999999997 1000.0001\n"
     ]
    }
   ],
   "source": [
    "import numpy as np\n",
    "\n",
    "a = np.float32(1000.)\n",
    "b = np.float32(10**(-8))\n",
    "\n",
    "x1 = (2*a + np.sqrt((2*a)**2 - 4*(a**2-b))) / 2\n",
    "x2 = (2*a + np.sqrt((2*a)**2 - 4*(a**2) + 4*b)) / 2\n",
    "x3 = a + np.sqrt(b)\n",
    "print(x1, x2, x3)"
   ]
  },
  {
   "cell_type": "code",
   "execution_count": 2,
   "metadata": {},
   "outputs": [
    {
     "data": {
      "text/plain": [
       "array([1000.00001066,  999.99998934])"
      ]
     },
     "execution_count": 2,
     "metadata": {},
     "output_type": "execute_result"
    }
   ],
   "source": [
    "np.roots([1.0, -2*a, a**2]) #数値計算により解を求める（多項式係数から作られる同伴行列の固有値)"
   ]
  },
  {
   "cell_type": "code",
   "execution_count": 3,
   "metadata": {},
   "outputs": [],
   "source": [
    "# ニュートン法\n",
    "def newton_method(f, df, x0, eps):\n",
    "    for i in range(1, 100):\n",
    "        x = x0 - f(x0) / df(x0)\n",
    "        print(i,x)\n",
    "        if abs(x - x0) < eps: break\n",
    "        x0 = x\n",
    "    return x0, i"
   ]
  },
  {
   "cell_type": "code",
   "execution_count": 4,
   "metadata": {},
   "outputs": [
    {
     "name": "stdout",
     "output_type": "stream",
     "text": [
      "1 5.0\n",
      "2 3.4\n",
      "3 3.023529411764706\n",
      "4 3.00009155413138\n",
      "5 3.000000001396984\n",
      "Solution = 3.00009155413138 ( The number of iteration = 5 )\n"
     ]
    }
   ],
   "source": [
    "def f1(x): #関数\n",
    "    return x*x - 9.0\n",
    "\n",
    "def df1(x): #微分\n",
    "    return 2.0*x\n",
    "\n",
    "eps = 1.e-4\n",
    "x0 = 1.0\n",
    "x, i = newton_method(f1, df1, x0, eps)\n",
    "print(\"Solution =\", x, \"( The number of iteration =\", i, \")\")"
   ]
  },
  {
   "cell_type": "code",
   "execution_count": 5,
   "metadata": {},
   "outputs": [
    {
     "data": {
      "text/latex": [
       "$\\displaystyle \\frac{1}{4} + \\frac{3}{\\left(X - 1\\right)^{2} + 1}$"
      ],
      "text/plain": [
       "1/4 + 3/((X - 1)**2 + 1)"
      ]
     },
     "execution_count": 5,
     "metadata": {},
     "output_type": "execute_result"
    }
   ],
   "source": [
    "import sympy as symp\n",
    "\n",
    "X = symp.Symbol(\"X\") #変数を定義\n",
    "expr = 3*symp.atan(X-1) + X/4\n",
    "symp.diff(expr, X) #微分"
   ]
  },
  {
   "cell_type": "code",
   "execution_count": 6,
   "metadata": {},
   "outputs": [
    {
     "name": "stdout",
     "output_type": "stream",
     "text": [
      "1 -0.5461609971571035\n",
      "2 2.2090842348709185\n",
      "3 0.03585045718760327\n",
      "4 1.3061065733388568\n",
      "5 0.8992625712186761\n",
      "6 0.922984253294827\n",
      "7 0.9229366039525206\n",
      "Solution = 0.922984253294827 ( The number of iteration = 7 )\n"
     ]
    }
   ],
   "source": [
    "def f2(x):\n",
    "    return 3*np.arctan(x-1) + x/4\n",
    "\n",
    "def df2(x):\n",
    "    return 3/((x-1)**2+1) + 1/4\n",
    "\n",
    "eps = 1.e-4\n",
    "x0 = 2.5\n",
    "x, i = newton_method(f2, df2, x0, eps)\n",
    "print(\"Solution =\", x, \"( The number of iteration =\", i, \")\")"
   ]
  },
  {
   "cell_type": "code",
   "execution_count": null,
   "metadata": {},
   "outputs": [],
   "source": []
  }
 ],
 "metadata": {
  "kernelspec": {
   "display_name": "Python 3",
   "language": "python",
   "name": "python3"
  },
  "language_info": {
   "codemirror_mode": {
    "name": "ipython",
    "version": 3
   },
   "file_extension": ".py",
   "mimetype": "text/x-python",
   "name": "python",
   "nbconvert_exporter": "python",
   "pygments_lexer": "ipython3",
   "version": "3.7.6"
  }
 },
 "nbformat": 4,
 "nbformat_minor": 4
}
